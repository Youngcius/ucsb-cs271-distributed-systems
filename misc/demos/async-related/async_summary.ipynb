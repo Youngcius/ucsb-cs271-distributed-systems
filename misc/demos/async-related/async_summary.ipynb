{
 "cells": [
  {
   "cell_type": "code",
   "execution_count": 2,
   "metadata": {},
   "outputs": [],
   "source": [
    "import time\n",
    "import asyncio\n",
    "import requests\n",
    "import aiohttp\n",
    "import grequests\n",
    "import threading\n",
    "\n",
    "import warnings\n",
    "warnings.filterwarnings('ignore')"
   ]
  },
  {
   "cell_type": "code",
   "execution_count": 3,
   "metadata": {},
   "outputs": [],
   "source": [
    "addresses = ['http://127.0.0.1:{}/end'.format(8000 + i) for i in range(3)]\n",
    "addr = addresses[0]"
   ]
  },
  {
   "attachments": {},
   "cell_type": "markdown",
   "metadata": {},
   "source": [
    "## `requests` 并发请求"
   ]
  },
  {
   "attachments": {},
   "cell_type": "markdown",
   "metadata": {},
   "source": [
    "### 后端用 `async` 视图函数 (with `await asyncio.sleep`)"
   ]
  },
  {
   "cell_type": "code",
   "execution_count": 14,
   "metadata": {},
   "outputs": [],
   "source": [
    "def func():\n",
    "    res = requests.get(addr)\n",
    "    print(res.status_code, res.json())"
   ]
  },
  {
   "cell_type": "code",
   "execution_count": 17,
   "metadata": {},
   "outputs": [
    {
     "name": "stdout",
     "output_type": "stream",
     "text": [
      "200200 {'result': 'success', 'client': 'A'}\n",
      " {'result': 'success', 'client': 'A'}\n"
     ]
    }
   ],
   "source": [
    "threading.Thread(target=func).start()\n",
    "threading.Thread(target=func).start()"
   ]
  },
  {
   "attachments": {},
   "cell_type": "markdown",
   "metadata": {},
   "source": [
    "### 后端不用 `async` 视图函数 (with `time.sleep`)"
   ]
  },
  {
   "cell_type": "code",
   "execution_count": 16,
   "metadata": {},
   "outputs": [
    {
     "name": "stdout",
     "output_type": "stream",
     "text": [
      "200 {'result': 'success', 'client': 'A'}\n",
      "200 {'result': 'success', 'client': 'A'}\n"
     ]
    }
   ],
   "source": [
    "threading.Thread(target=func).start()\n",
    "threading.Thread(target=func).start()\n",
    "# 也是几乎同时出结果"
   ]
  },
  {
   "attachments": {},
   "cell_type": "markdown",
   "metadata": {},
   "source": [
    "以上说明后端视图函数都是并发的"
   ]
  },
  {
   "cell_type": "markdown",
   "metadata": {},
   "source": [
    "## `grequests` 并发"
   ]
  },
  {
   "attachments": {},
   "cell_type": "markdown",
   "metadata": {},
   "source": [
    "### `grequests.map` 并发后返回结果是同步阻塞的，结果列表是有序的"
   ]
  },
  {
   "cell_type": "code",
   "execution_count": 10,
   "metadata": {},
   "outputs": [],
   "source": [
    "def greq_async_map():\n",
    "    start = time.time()\n",
    "    res_list = grequests.map([\n",
    "        grequests.get(addr) for addr in addresses * 5\n",
    "    ])\n",
    "    print('---')\n",
    "    end = time.time()\n",
    "    print(end - start)\n",
    "    print('sending completed')\n",
    "    return res_list"
   ]
  },
  {
   "cell_type": "code",
   "execution_count": 11,
   "metadata": {},
   "outputs": [
    {
     "name": "stdout",
     "output_type": "stream",
     "text": [
      "---\n",
      "2.0179731845855713\n",
      "sending completed\n"
     ]
    }
   ],
   "source": [
    "res_list = greq_async_map()"
   ]
  },
  {
   "cell_type": "code",
   "execution_count": 39,
   "metadata": {},
   "outputs": [
    {
     "name": "stdout",
     "output_type": "stream",
     "text": [
      "[<Response [200]>, <Response [200]>, <Response [200]>, <Response [200]>, <Response [200]>, <Response [200]>, <Response [200]>, <Response [200]>, <Response [200]>, <Response [200]>, <Response [200]>, <Response [200]>, <Response [200]>, <Response [200]>, <Response [200]>]\n"
     ]
    }
   ],
   "source": [
    "print(res_list)"
   ]
  },
  {
   "cell_type": "code",
   "execution_count": null,
   "metadata": {},
   "outputs": [],
   "source": []
  },
  {
   "attachments": {},
   "cell_type": "markdown",
   "metadata": {},
   "source": [
    "### `grequests.imap` 并发后是及时返回结果，直到使用到结果时才阻塞"
   ]
  },
  {
   "cell_type": "code",
   "execution_count": 44,
   "metadata": {},
   "outputs": [],
   "source": [
    "def greq_async_imap():\n",
    "    start = time.time()\n",
    "    res_list = grequests.imap([\n",
    "        grequests.get(addr) for addr in addresses * 5\n",
    "    ])\n",
    "    end = time.time()\n",
    "    print(end - start)\n",
    "    print('sending completed at', time.time())\n",
    "    print('---')\n",
    "    return res_list\n",
    "\n",
    "def fff():\n",
    "    print('another function finished at', time.time())"
   ]
  },
  {
   "cell_type": "code",
   "execution_count": 45,
   "metadata": {},
   "outputs": [
    {
     "name": "stdout",
     "output_type": "stream",
     "text": [
      "0.00045299530029296875\n",
      "sending completed at 1675885141.692812\n",
      "---\n",
      "another function finished at 1675885141.6929028\n"
     ]
    }
   ],
   "source": [
    "res_list = greq_async_imap()\n",
    "fff()"
   ]
  },
  {
   "cell_type": "code",
   "execution_count": 33,
   "metadata": {},
   "outputs": [
    {
     "name": "stdout",
     "output_type": "stream",
     "text": [
      "200 {'result': 'success', 'client': 'B'}\n",
      "200 {'result': 'success', 'client': 'A'}\n",
      "200 {'result': 'success', 'client': 'C'}\n",
      "200 {'result': 'success', 'client': 'A'}\n",
      "200 {'result': 'success', 'client': 'B'}\n",
      "200 {'result': 'success', 'client': 'C'}\n",
      "200 {'result': 'success', 'client': 'A'}\n",
      "200 {'result': 'success', 'client': 'B'}\n",
      "200 {'result': 'success', 'client': 'C'}\n",
      "200 {'result': 'success', 'client': 'A'}\n",
      "200 {'result': 'success', 'client': 'C'}\n",
      "200 {'result': 'success', 'client': 'B'}\n",
      "200 {'result': 'success', 'client': 'A'}\n",
      "200 {'result': 'success', 'client': 'B'}\n",
      "200 {'result': 'success', 'client': 'C'}\n"
     ]
    }
   ],
   "source": [
    "for res in res_list:\n",
    "    print(res.status_code, res.json()) # 这就又变成了同步阻塞"
   ]
  },
  {
   "cell_type": "code",
   "execution_count": 36,
   "metadata": {},
   "outputs": [
    {
     "name": "stdout",
     "output_type": "stream",
     "text": [
      "[200, 200, 200, 200, 200, 200, 200, 200, 200, 200, 200, 200, 200, 200, 200]\n"
     ]
    }
   ],
   "source": [
    "# print([res.status_code for res in res_list]) # 这样还好点"
   ]
  },
  {
   "cell_type": "markdown",
   "metadata": {},
   "source": [
    "相比之下，`grequests.map` 才是真正意义上的并发"
   ]
  },
  {
   "attachments": {},
   "cell_type": "markdown",
   "metadata": {},
   "source": [
    "## `aiohttp` 并发\n",
    "\n",
    "需要借助于 `asyncio` 的 coroutine/task 原语实现，否则是『伪并发』"
   ]
  },
  {
   "cell_type": "markdown",
   "metadata": {},
   "source": [
    "**反面示例 1**"
   ]
  },
  {
   "cell_type": "code",
   "execution_count": 52,
   "metadata": {},
   "outputs": [
    {
     "name": "stdout",
     "output_type": "stream",
     "text": [
      "http://127.0.0.1:8000/end requesting completed {'result': 'success', 'client': 'A'}\n",
      "http://127.0.0.1:8001/end requesting completed {'result': 'success', 'client': 'B'}\n",
      "http://127.0.0.1:8002/end requesting completed {'result': 'success', 'client': 'C'}\n",
      "http://127.0.0.1:8000/end requesting completed {'result': 'success', 'client': 'A'}\n",
      "http://127.0.0.1:8001/end requesting completed {'result': 'success', 'client': 'B'}\n",
      "http://127.0.0.1:8002/end requesting completed {'result': 'success', 'client': 'C'}\n",
      "http://127.0.0.1:8000/end requesting completed {'result': 'success', 'client': 'A'}\n",
      "http://127.0.0.1:8001/end requesting completed {'result': 'success', 'client': 'B'}\n",
      "http://127.0.0.1:8002/end requesting completed {'result': 'success', 'client': 'C'}\n",
      "time consumption 18.083763122558594\n"
     ]
    }
   ],
   "source": [
    "async def async_requests():\n",
    "    start = time.time()\n",
    "    async with aiohttp.ClientSession() as client:\n",
    "        for addr in addresses * 3:\n",
    "            async with client.get(addr) as resp:\n",
    "                res = await resp.json()\n",
    "                print('{} requesting completed'.format(addr), res)\n",
    "    end = time.time()\n",
    "    print('time consumption', end - start)\n",
    "\n",
    "await async_requests()"
   ]
  },
  {
   "cell_type": "code",
   "execution_count": 53,
   "metadata": {},
   "outputs": [
    {
     "name": "stdout",
     "output_type": "stream",
     "text": [
      "time consumption 0.00026917457580566406\n"
     ]
    }
   ],
   "source": [
    "async def async_requests():\n",
    "    start = time.time()\n",
    "    async with aiohttp.ClientSession() as client:\n",
    "        for addr in addresses * 3:\n",
    "            client.get(addr)\n",
    "\n",
    "    end = time.time()\n",
    "    print('time consumption', end - start)\n",
    "\n",
    "\n",
    "await async_requests() # 内部调用没有阻塞，啥也没用"
   ]
  },
  {
   "cell_type": "code",
   "execution_count": null,
   "metadata": {},
   "outputs": [],
   "source": []
  },
  {
   "cell_type": "markdown",
   "metadata": {},
   "source": [
    "**反面示例 1**"
   ]
  },
  {
   "cell_type": "code",
   "execution_count": 55,
   "metadata": {},
   "outputs": [
    {
     "name": "stdout",
     "output_type": "stream",
     "text": [
      "http://127.0.0.1:8000/end requesting completed {'result': 'success', 'client': 'A'}\n",
      "http://127.0.0.1:8001/end requesting completed {'result': 'success', 'client': 'B'}\n",
      "http://127.0.0.1:8002/end requesting completed {'result': 'success', 'client': 'C'}\n",
      "http://127.0.0.1:8000/end requesting completed {'result': 'success', 'client': 'A'}\n",
      "http://127.0.0.1:8001/end requesting completed {'result': 'success', 'client': 'B'}\n",
      "http://127.0.0.1:8002/end requesting completed {'result': 'success', 'client': 'C'}\n",
      "http://127.0.0.1:8000/end requesting completed {'result': 'success', 'client': 'A'}\n",
      "http://127.0.0.1:8001/end requesting completed {'result': 'success', 'client': 'B'}\n",
      "http://127.0.0.1:8002/end requesting completed {'result': 'success', 'client': 'C'}\n",
      "time consumption 18.149924993515015\n"
     ]
    }
   ],
   "source": [
    "async def async_requests():\n",
    "    start = time.time()\n",
    "    for addr in addresses * 3:\n",
    "        async with aiohttp.ClientSession() as client:\n",
    "            async with client.get(addr) as resp:\n",
    "                res = await resp.json()\n",
    "                print('{} requesting completed'.format(addr), res)\n",
    "    end = time.time()\n",
    "    print('time consumption', end - start)\n",
    "\n",
    "await async_requests() # 每一个地址都要创建一个session，这样理论上比上面更慢"
   ]
  },
  {
   "attachments": {},
   "cell_type": "markdown",
   "metadata": {},
   "source": [
    "**真正并发 1** (create task, gather, await result)"
   ]
  },
  {
   "cell_type": "code",
   "execution_count": 68,
   "metadata": {},
   "outputs": [
    {
     "name": "stderr",
     "output_type": "stream",
     "text": [
      "Unclosed connection\n",
      "client_connection: Connection<ConnectionKey(host='127.0.0.1', port=8000, is_ssl=False, ssl=None, proxy=None, proxy_auth=None, proxy_headers_hash=None)>\n",
      "Unclosed connection\n",
      "client_connection: Connection<ConnectionKey(host='127.0.0.1', port=8001, is_ssl=False, ssl=None, proxy=None, proxy_auth=None, proxy_headers_hash=None)>\n"
     ]
    },
    {
     "name": "stdout",
     "output_type": "stream",
     "text": [
      "up to now, time consumption 2.0872039794921875\n",
      "<Task finished name='Task-224' coro=<<_RequestContextManager without __name__>()> result=<ClientRespon...ation/json')>\n",
      "> requesting completed {'result': 'success', 'client': 'A'}\n",
      "<Task finished name='Task-225' coro=<<_RequestContextManager without __name__>()> result=<ClientRespon...ation/json')>\n",
      "> requesting completed {'result': 'success', 'client': 'B'}\n",
      "<Task finished name='Task-226' coro=<<_RequestContextManager without __name__>()> result=<ClientRespon...ation/json')>\n",
      "> requesting completed {'result': 'success', 'client': 'C'}\n",
      "<Task finished name='Task-227' coro=<<_RequestContextManager without __name__>()> result=<ClientRespon...ation/json')>\n",
      "> requesting completed {'result': 'success', 'client': 'A'}\n",
      "<Task finished name='Task-228' coro=<<_RequestContextManager without __name__>()> result=<ClientRespon...ation/json')>\n",
      "> requesting completed {'result': 'success', 'client': 'B'}\n",
      "<Task finished name='Task-229' coro=<<_RequestContextManager without __name__>()> result=<ClientRespon...ation/json')>\n",
      "> requesting completed {'result': 'success', 'client': 'C'}\n",
      "<Task finished name='Task-230' coro=<<_RequestContextManager without __name__>()> result=<ClientRespon...ation/json')>\n",
      "> requesting completed {'result': 'success', 'client': 'A'}\n",
      "<Task finished name='Task-231' coro=<<_RequestContextManager without __name__>()> result=<ClientRespon...ation/json')>\n",
      "> requesting completed {'result': 'success', 'client': 'B'}\n",
      "<Task finished name='Task-232' coro=<<_RequestContextManager without __name__>()> result=<ClientRespon...ation/json')>\n",
      "> requesting completed {'result': 'success', 'client': 'C'}\n",
      "time consumption 2.0887880325317383\n"
     ]
    }
   ],
   "source": [
    "async def async_requests():\n",
    "    async with aiohttp.ClientSession() as client:\n",
    "        start = time.time()\n",
    "        tasks = [asyncio.create_task(client.get(addr)) for addr in addresses * 3]\n",
    "        await asyncio.gather(*tasks)\n",
    "        middle = time.time()\n",
    "        print('up to now, time consumption', middle - start)\n",
    "        for task in tasks:\n",
    "            res_content = await task.result().json()\n",
    "            print('{} requesting completed'.format(task), res_content)\n",
    "        end = time.time()\n",
    "        print('time consumption', end - start)\n",
    "\n",
    "await async_requests()"
   ]
  },
  {
   "attachments": {},
   "cell_type": "markdown",
   "metadata": {},
   "source": [
    "**真正并发 1** (by coroutine)"
   ]
  },
  {
   "cell_type": "code",
   "execution_count": null,
   "metadata": {},
   "outputs": [],
   "source": [
    "\n",
    "def func_1():\n",
    "    print('start')\n",
    "\n",
    "    async def async_request(addr):\n",
    "        start = time.time()\n",
    "        async with aiohttp.ClientSession() as client:\n",
    "            resp = await client.get(addr)\n",
    "            print('{} requesting completed'.format(addr))\n",
    "        # res = requests.get(addr) 这条不行\n",
    "        # time.sleep(2) 这条也不行\n",
    "\n",
    "    addresses = ['http://127.0.0.1:{}/start'.format(8000 + i) for i in range(3)]\n",
    "    asyncio.run(asyncio.wait([async_request(addr) for addr in addresses]))\n"
   ]
  },
  {
   "cell_type": "code",
   "execution_count": 66,
   "metadata": {},
   "outputs": [],
   "source": [
    "\n",
    "async def single_async_request(addr):\n",
    "    async with aiohttp.ClientSession() as client:\n",
    "        resp = await client.get(addr)\n",
    "        print('{} requesting completed'.format(addr))"
   ]
  },
  {
   "cell_type": "code",
   "execution_count": 67,
   "metadata": {},
   "outputs": [
    {
     "name": "stdout",
     "output_type": "stream",
     "text": [
      "http://127.0.0.1:8001/end requesting completed\n",
      "http://127.0.0.1:8000/end requesting completed\n",
      "http://127.0.0.1:8000/end requesting completed\n",
      "http://127.0.0.1:8001/end requesting completed\n",
      "http://127.0.0.1:8001/end requesting completed\n",
      "http://127.0.0.1:8000/end requesting completed\n",
      "http://127.0.0.1:8002/end requesting completed\n",
      "http://127.0.0.1:8002/end requesting completed\n",
      "http://127.0.0.1:8002/end requesting completed\n",
      "time consumption 2.040360927581787\n"
     ]
    }
   ],
   "source": [
    "start = time.time()\n",
    "await asyncio.wait([single_async_request(addr) for addr in addresses * 3])\n",
    "end = time.time()\n",
    "print('time consumption', end - start)"
   ]
  },
  {
   "cell_type": "markdown",
   "metadata": {},
   "source": [
    "---"
   ]
  },
  {
   "cell_type": "markdown",
   "metadata": {},
   "source": [
    "## 其他示例"
   ]
  },
  {
   "cell_type": "markdown",
   "metadata": {},
   "source": [
    "**demo 1**"
   ]
  },
  {
   "cell_type": "code",
   "execution_count": 80,
   "metadata": {},
   "outputs": [],
   "source": [
    "async def func_a():\n",
    "    print('suspending func a')\n",
    "    await asyncio.sleep(3)\n",
    "    print('resuming func a')\n",
    "\n",
    "async def func_b():\n",
    "    await asyncio.sleep(2)\n",
    "    print('in function b')\n",
    "\n",
    "#     # await task_a\n",
    "#     # await task_b\n",
    "#     await asyncio.gather(task_a, task_b)\n",
    "#     # await func_a()\n",
    "#     # await func_b()\n",
    "\n",
    "\n"
   ]
  },
  {
   "cell_type": "code",
   "execution_count": 81,
   "metadata": {},
   "outputs": [
    {
     "name": "stdout",
     "output_type": "stream",
     "text": [
      "suspending func a\n",
      "in function b\n",
      "resuming func a\n"
     ]
    }
   ],
   "source": [
    "async def main():\n",
    "    task_a = asyncio.create_task(func_a())\n",
    "    task_b = asyncio.create_task(func_b())\n",
    "    await task_a\n",
    "    await task_b\n",
    "    \n",
    "await main()"
   ]
  },
  {
   "cell_type": "code",
   "execution_count": 82,
   "metadata": {},
   "outputs": [
    {
     "name": "stdout",
     "output_type": "stream",
     "text": [
      "suspending func a\n",
      "in function b\n",
      "resuming func a\n"
     ]
    }
   ],
   "source": [
    "async def main():\n",
    "    task_a = asyncio.create_task(func_a())\n",
    "    task_b = asyncio.create_task(func_b())\n",
    "    await asyncio.gather(task_a, task_b)\n",
    "    \n",
    "await main()"
   ]
  },
  {
   "cell_type": "markdown",
   "metadata": {},
   "source": [
    "以上两种方法是等价的"
   ]
  },
  {
   "cell_type": "code",
   "execution_count": null,
   "metadata": {},
   "outputs": [],
   "source": []
  },
  {
   "cell_type": "code",
   "execution_count": null,
   "metadata": {},
   "outputs": [],
   "source": []
  },
  {
   "cell_type": "code",
   "execution_count": null,
   "metadata": {},
   "outputs": [],
   "source": []
  },
  {
   "cell_type": "code",
   "execution_count": null,
   "metadata": {},
   "outputs": [],
   "source": []
  }
 ],
 "metadata": {
  "kernelspec": {
   "display_name": "base",
   "language": "python",
   "name": "python3"
  },
  "language_info": {
   "codemirror_mode": {
    "name": "ipython",
    "version": 3
   },
   "file_extension": ".py",
   "mimetype": "text/x-python",
   "name": "python",
   "nbconvert_exporter": "python",
   "pygments_lexer": "ipython3",
   "version": "3.9.15"
  },
  "orig_nbformat": 4,
  "vscode": {
   "interpreter": {
    "hash": "cc486558b4ddc182b3265822741974733f8cb8462442c4659a40a8ca5b0402c5"
   }
  }
 },
 "nbformat": 4,
 "nbformat_minor": 2
}
